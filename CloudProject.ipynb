{
 "cells": [
  {
   "cell_type": "markdown",
   "id": "unauthorized-grace",
   "metadata": {},
   "source": [
    "Data set: https://www.kaggle.com/aman9d/phishing-data?select=combined_dataset.csv"
   ]
  },
  {
   "cell_type": "markdown",
   "id": "declared-library",
   "metadata": {},
   "source": [
    "# Modules"
   ]
  },
  {
   "cell_type": "code",
   "execution_count": 1,
   "id": "promising-burden",
   "metadata": {},
   "outputs": [],
   "source": [
    "import pandas as pd\n",
    "import numpy as np\n",
    "from sklearn.metrics import accuracy_score\n",
    "from sklearn import metrics\n",
    "from sklearn.model_selection import train_test_split\n",
    "import matplotlib.pyplot as plt\n",
    "from sklearn.ensemble import RandomForestClassifier"
   ]
  },
  {
   "cell_type": "code",
   "execution_count": 2,
   "id": "increased-transcription",
   "metadata": {},
   "outputs": [],
   "source": [
    "#Domain: The URL itself.\n",
    "#Ranking: Page Ranking\n",
    "#isIp: Is there an IP address in the weblink\n",
    "#valid: This data is fetched from google's whois API that tells us more about the current\n",
    "#status of the URL's registration.\n",
    "#activeDuration: Also from whois API. Gives the duration of the time since the\n",
    "#registration up until now.\n",
    "#urlLen: It is simply the length of the URL\n",
    "#is@: If the link has a '@' character then it's value = 1\n",
    "#isredirect: If the link has double dashes, there is a chance that it is a redirect. 1-> multiple\n",
    "#dashes present together.\n",
    "#haveDash: If there are any dashes in the domain name.\n",
    "#domainLen: The length of just the domain name.\n",
    "#noOfSubdomain: The number of subdomains preset in the URL.\n",
    "#Labels: 0 -> Legitimate website , 1 -> Phishing Link/ Spam Link"
   ]
  },
  {
   "cell_type": "markdown",
   "id": "different-difficulty",
   "metadata": {},
   "source": [
    "# Read the CSV file"
   ]
  },
  {
   "cell_type": "code",
   "execution_count": 3,
   "id": "failing-trader",
   "metadata": {},
   "outputs": [
    {
     "data": {
      "text/html": [
       "<div>\n",
       "<style scoped>\n",
       "    .dataframe tbody tr th:only-of-type {\n",
       "        vertical-align: middle;\n",
       "    }\n",
       "\n",
       "    .dataframe tbody tr th {\n",
       "        vertical-align: top;\n",
       "    }\n",
       "\n",
       "    .dataframe thead th {\n",
       "        text-align: right;\n",
       "    }\n",
       "</style>\n",
       "<table border=\"1\" class=\"dataframe\">\n",
       "  <thead>\n",
       "    <tr style=\"text-align: right;\">\n",
       "      <th></th>\n",
       "      <th>domain</th>\n",
       "      <th>ranking</th>\n",
       "      <th>isIp</th>\n",
       "      <th>valid</th>\n",
       "      <th>activeDuration</th>\n",
       "      <th>urlLen</th>\n",
       "      <th>is@</th>\n",
       "      <th>isredirect</th>\n",
       "      <th>haveDash</th>\n",
       "      <th>domainLen</th>\n",
       "      <th>nosOfSubdomain</th>\n",
       "      <th>label</th>\n",
       "    </tr>\n",
       "  </thead>\n",
       "  <tbody>\n",
       "    <tr>\n",
       "      <th>0</th>\n",
       "      <td>www.voting-yahoo.com</td>\n",
       "      <td>10000000</td>\n",
       "      <td>0</td>\n",
       "      <td>0</td>\n",
       "      <td>0</td>\n",
       "      <td>20</td>\n",
       "      <td>0</td>\n",
       "      <td>0</td>\n",
       "      <td>1</td>\n",
       "      <td>20</td>\n",
       "      <td>2</td>\n",
       "      <td>1</td>\n",
       "    </tr>\n",
       "    <tr>\n",
       "      <th>1</th>\n",
       "      <td>www.zvon.org/xxl/WSDL1.1/Output/index.html</td>\n",
       "      <td>194914</td>\n",
       "      <td>0</td>\n",
       "      <td>1</td>\n",
       "      <td>7305</td>\n",
       "      <td>42</td>\n",
       "      <td>0</td>\n",
       "      <td>0</td>\n",
       "      <td>0</td>\n",
       "      <td>12</td>\n",
       "      <td>2</td>\n",
       "      <td>0</td>\n",
       "    </tr>\n",
       "    <tr>\n",
       "      <th>2</th>\n",
       "      <td>tecportais.com/file-security-update-infonfmati...</td>\n",
       "      <td>10000000</td>\n",
       "      <td>0</td>\n",
       "      <td>0</td>\n",
       "      <td>0</td>\n",
       "      <td>155</td>\n",
       "      <td>0</td>\n",
       "      <td>0</td>\n",
       "      <td>0</td>\n",
       "      <td>14</td>\n",
       "      <td>1</td>\n",
       "      <td>1</td>\n",
       "    </tr>\n",
       "    <tr>\n",
       "      <th>3</th>\n",
       "      <td>bima.astro.umd.edu/nemo/linuxastro/</td>\n",
       "      <td>7001</td>\n",
       "      <td>0</td>\n",
       "      <td>0</td>\n",
       "      <td>0</td>\n",
       "      <td>35</td>\n",
       "      <td>0</td>\n",
       "      <td>0</td>\n",
       "      <td>0</td>\n",
       "      <td>18</td>\n",
       "      <td>3</td>\n",
       "      <td>0</td>\n",
       "    </tr>\n",
       "    <tr>\n",
       "      <th>4</th>\n",
       "      <td>huarui-tec.com/js/?us.battle.net/login/en/?ref...</td>\n",
       "      <td>10000000</td>\n",
       "      <td>0</td>\n",
       "      <td>1</td>\n",
       "      <td>730</td>\n",
       "      <td>79</td>\n",
       "      <td>0</td>\n",
       "      <td>0</td>\n",
       "      <td>1</td>\n",
       "      <td>14</td>\n",
       "      <td>1</td>\n",
       "      <td>1</td>\n",
       "    </tr>\n",
       "  </tbody>\n",
       "</table>\n",
       "</div>"
      ],
      "text/plain": [
       "                                              domain   ranking  isIp  valid  \\\n",
       "0                               www.voting-yahoo.com  10000000     0      0   \n",
       "1         www.zvon.org/xxl/WSDL1.1/Output/index.html    194914     0      1   \n",
       "2  tecportais.com/file-security-update-infonfmati...  10000000     0      0   \n",
       "3                bima.astro.umd.edu/nemo/linuxastro/      7001     0      0   \n",
       "4  huarui-tec.com/js/?us.battle.net/login/en/?ref...  10000000     0      1   \n",
       "\n",
       "   activeDuration  urlLen  is@  isredirect  haveDash  domainLen  \\\n",
       "0               0      20    0           0         1         20   \n",
       "1            7305      42    0           0         0         12   \n",
       "2               0     155    0           0         0         14   \n",
       "3               0      35    0           0         0         18   \n",
       "4             730      79    0           0         1         14   \n",
       "\n",
       "   nosOfSubdomain  label  \n",
       "0               2      1  \n",
       "1               2      0  \n",
       "2               1      1  \n",
       "3               3      0  \n",
       "4               1      1  "
      ]
     },
     "execution_count": 3,
     "metadata": {},
     "output_type": "execute_result"
    }
   ],
   "source": [
    "data = pd.read_csv('combined_dataset.csv')\n",
    "data.head()"
   ]
  },
  {
   "cell_type": "markdown",
   "id": "cheap-devil",
   "metadata": {},
   "source": [
    "# Datatypes"
   ]
  },
  {
   "cell_type": "code",
   "execution_count": 4,
   "id": "indirect-effort",
   "metadata": {},
   "outputs": [
    {
     "data": {
      "text/plain": [
       "domain            object\n",
       "ranking            int64\n",
       "isIp               int64\n",
       "valid              int64\n",
       "activeDuration     int64\n",
       "urlLen             int64\n",
       "is@                int64\n",
       "isredirect         int64\n",
       "haveDash           int64\n",
       "domainLen          int64\n",
       "nosOfSubdomain     int64\n",
       "label              int64\n",
       "dtype: object"
      ]
     },
     "execution_count": 4,
     "metadata": {},
     "output_type": "execute_result"
    }
   ],
   "source": [
    "data.dtypes"
   ]
  },
  {
   "cell_type": "markdown",
   "id": "jewish-complement",
   "metadata": {},
   "source": [
    "# Check null values present or not in the data set "
   ]
  },
  {
   "cell_type": "code",
   "execution_count": 5,
   "id": "stretch-retailer",
   "metadata": {},
   "outputs": [
    {
     "data": {
      "text/plain": [
       "domain            0\n",
       "ranking           0\n",
       "isIp              0\n",
       "valid             0\n",
       "activeDuration    0\n",
       "urlLen            0\n",
       "is@               0\n",
       "isredirect        0\n",
       "haveDash          0\n",
       "domainLen         0\n",
       "nosOfSubdomain    0\n",
       "label             0\n",
       "dtype: int64"
      ]
     },
     "execution_count": 5,
     "metadata": {},
     "output_type": "execute_result"
    }
   ],
   "source": [
    "data.isnull().sum()"
   ]
  },
  {
   "cell_type": "markdown",
   "id": "matched-shoot",
   "metadata": {},
   "source": [
    "# Column names "
   ]
  },
  {
   "cell_type": "code",
   "execution_count": 6,
   "id": "phantom-beach",
   "metadata": {},
   "outputs": [
    {
     "data": {
      "text/plain": [
       "Index(['domain', 'ranking', 'isIp', 'valid', 'activeDuration', 'urlLen', 'is@',\n",
       "       'isredirect', 'haveDash', 'domainLen', 'nosOfSubdomain', 'label'],\n",
       "      dtype='object')"
      ]
     },
     "execution_count": 6,
     "metadata": {},
     "output_type": "execute_result"
    }
   ],
   "source": [
    "data.columns"
   ]
  },
  {
   "cell_type": "markdown",
   "id": "constant-thong",
   "metadata": {},
   "source": [
    "# Independent and Dependent Variables "
   ]
  },
  {
   "cell_type": "code",
   "execution_count": 7,
   "id": "sublime-removal",
   "metadata": {},
   "outputs": [],
   "source": [
    "X = data[['ranking', 'isIp', 'valid', 'activeDuration', 'urlLen', 'is@',\n",
    "       'isredirect', 'haveDash', 'domainLen', 'nosOfSubdomain',]]\n",
    "y = data[['label']]"
   ]
  },
  {
   "cell_type": "markdown",
   "id": "reverse-construction",
   "metadata": {},
   "source": [
    "# Split the data {Train and Test}"
   ]
  },
  {
   "cell_type": "code",
   "execution_count": 8,
   "id": "partial-albert",
   "metadata": {},
   "outputs": [],
   "source": [
    "X_train,X_test,y_train,y_test = train_test_split(X,y,random_state=100)"
   ]
  },
  {
   "cell_type": "markdown",
   "id": "prospective-russia",
   "metadata": {},
   "source": [
    "# Correlation "
   ]
  },
  {
   "cell_type": "code",
   "execution_count": 9,
   "id": "flush-distinction",
   "metadata": {},
   "outputs": [
    {
     "data": {
      "text/html": [
       "<div>\n",
       "<style scoped>\n",
       "    .dataframe tbody tr th:only-of-type {\n",
       "        vertical-align: middle;\n",
       "    }\n",
       "\n",
       "    .dataframe tbody tr th {\n",
       "        vertical-align: top;\n",
       "    }\n",
       "\n",
       "    .dataframe thead th {\n",
       "        text-align: right;\n",
       "    }\n",
       "</style>\n",
       "<table border=\"1\" class=\"dataframe\">\n",
       "  <thead>\n",
       "    <tr style=\"text-align: right;\">\n",
       "      <th></th>\n",
       "      <th>ranking</th>\n",
       "      <th>isIp</th>\n",
       "      <th>valid</th>\n",
       "      <th>activeDuration</th>\n",
       "      <th>urlLen</th>\n",
       "      <th>is@</th>\n",
       "      <th>isredirect</th>\n",
       "      <th>haveDash</th>\n",
       "      <th>domainLen</th>\n",
       "      <th>nosOfSubdomain</th>\n",
       "    </tr>\n",
       "  </thead>\n",
       "  <tbody>\n",
       "    <tr>\n",
       "      <th>ranking</th>\n",
       "      <td>1.000000</td>\n",
       "      <td>0.004366</td>\n",
       "      <td>-0.269988</td>\n",
       "      <td>-0.462782</td>\n",
       "      <td>0.102362</td>\n",
       "      <td>0.023710</td>\n",
       "      <td>0.059520</td>\n",
       "      <td>0.102799</td>\n",
       "      <td>0.154289</td>\n",
       "      <td>0.106204</td>\n",
       "    </tr>\n",
       "    <tr>\n",
       "      <th>isIp</th>\n",
       "      <td>0.004366</td>\n",
       "      <td>1.000000</td>\n",
       "      <td>0.003396</td>\n",
       "      <td>-0.001121</td>\n",
       "      <td>-0.002559</td>\n",
       "      <td>-0.000797</td>\n",
       "      <td>-0.001291</td>\n",
       "      <td>-0.001350</td>\n",
       "      <td>0.007403</td>\n",
       "      <td>0.027413</td>\n",
       "    </tr>\n",
       "    <tr>\n",
       "      <th>valid</th>\n",
       "      <td>-0.269988</td>\n",
       "      <td>0.003396</td>\n",
       "      <td>1.000000</td>\n",
       "      <td>0.811662</td>\n",
       "      <td>-0.047997</td>\n",
       "      <td>-0.024196</td>\n",
       "      <td>-0.023436</td>\n",
       "      <td>-0.128023</td>\n",
       "      <td>-0.126254</td>\n",
       "      <td>-0.175069</td>\n",
       "    </tr>\n",
       "    <tr>\n",
       "      <th>activeDuration</th>\n",
       "      <td>-0.462782</td>\n",
       "      <td>-0.001121</td>\n",
       "      <td>0.811662</td>\n",
       "      <td>1.000000</td>\n",
       "      <td>-0.132897</td>\n",
       "      <td>-0.026755</td>\n",
       "      <td>-0.046345</td>\n",
       "      <td>-0.150075</td>\n",
       "      <td>-0.178697</td>\n",
       "      <td>-0.179784</td>\n",
       "    </tr>\n",
       "    <tr>\n",
       "      <th>urlLen</th>\n",
       "      <td>0.102362</td>\n",
       "      <td>-0.002559</td>\n",
       "      <td>-0.047997</td>\n",
       "      <td>-0.132897</td>\n",
       "      <td>1.000000</td>\n",
       "      <td>0.016628</td>\n",
       "      <td>-0.009703</td>\n",
       "      <td>0.374359</td>\n",
       "      <td>0.497277</td>\n",
       "      <td>0.344562</td>\n",
       "    </tr>\n",
       "    <tr>\n",
       "      <th>is@</th>\n",
       "      <td>0.023710</td>\n",
       "      <td>-0.000797</td>\n",
       "      <td>-0.024196</td>\n",
       "      <td>-0.026755</td>\n",
       "      <td>0.016628</td>\n",
       "      <td>1.000000</td>\n",
       "      <td>-0.004628</td>\n",
       "      <td>0.001148</td>\n",
       "      <td>-0.001525</td>\n",
       "      <td>-0.002833</td>\n",
       "    </tr>\n",
       "    <tr>\n",
       "      <th>isredirect</th>\n",
       "      <td>0.059520</td>\n",
       "      <td>-0.001291</td>\n",
       "      <td>-0.023436</td>\n",
       "      <td>-0.046345</td>\n",
       "      <td>-0.009703</td>\n",
       "      <td>-0.004628</td>\n",
       "      <td>1.000000</td>\n",
       "      <td>-0.006451</td>\n",
       "      <td>-0.016139</td>\n",
       "      <td>-0.026109</td>\n",
       "    </tr>\n",
       "    <tr>\n",
       "      <th>haveDash</th>\n",
       "      <td>0.102799</td>\n",
       "      <td>-0.001350</td>\n",
       "      <td>-0.128023</td>\n",
       "      <td>-0.150075</td>\n",
       "      <td>0.374359</td>\n",
       "      <td>0.001148</td>\n",
       "      <td>-0.006451</td>\n",
       "      <td>1.000000</td>\n",
       "      <td>0.364481</td>\n",
       "      <td>0.250808</td>\n",
       "    </tr>\n",
       "    <tr>\n",
       "      <th>domainLen</th>\n",
       "      <td>0.154289</td>\n",
       "      <td>0.007403</td>\n",
       "      <td>-0.126254</td>\n",
       "      <td>-0.178697</td>\n",
       "      <td>0.497277</td>\n",
       "      <td>-0.001525</td>\n",
       "      <td>-0.016139</td>\n",
       "      <td>0.364481</td>\n",
       "      <td>1.000000</td>\n",
       "      <td>0.863147</td>\n",
       "    </tr>\n",
       "    <tr>\n",
       "      <th>nosOfSubdomain</th>\n",
       "      <td>0.106204</td>\n",
       "      <td>0.027413</td>\n",
       "      <td>-0.175069</td>\n",
       "      <td>-0.179784</td>\n",
       "      <td>0.344562</td>\n",
       "      <td>-0.002833</td>\n",
       "      <td>-0.026109</td>\n",
       "      <td>0.250808</td>\n",
       "      <td>0.863147</td>\n",
       "      <td>1.000000</td>\n",
       "    </tr>\n",
       "  </tbody>\n",
       "</table>\n",
       "</div>"
      ],
      "text/plain": [
       "                 ranking      isIp     valid  activeDuration    urlLen  \\\n",
       "ranking         1.000000  0.004366 -0.269988       -0.462782  0.102362   \n",
       "isIp            0.004366  1.000000  0.003396       -0.001121 -0.002559   \n",
       "valid          -0.269988  0.003396  1.000000        0.811662 -0.047997   \n",
       "activeDuration -0.462782 -0.001121  0.811662        1.000000 -0.132897   \n",
       "urlLen          0.102362 -0.002559 -0.047997       -0.132897  1.000000   \n",
       "is@             0.023710 -0.000797 -0.024196       -0.026755  0.016628   \n",
       "isredirect      0.059520 -0.001291 -0.023436       -0.046345 -0.009703   \n",
       "haveDash        0.102799 -0.001350 -0.128023       -0.150075  0.374359   \n",
       "domainLen       0.154289  0.007403 -0.126254       -0.178697  0.497277   \n",
       "nosOfSubdomain  0.106204  0.027413 -0.175069       -0.179784  0.344562   \n",
       "\n",
       "                     is@  isredirect  haveDash  domainLen  nosOfSubdomain  \n",
       "ranking         0.023710    0.059520  0.102799   0.154289        0.106204  \n",
       "isIp           -0.000797   -0.001291 -0.001350   0.007403        0.027413  \n",
       "valid          -0.024196   -0.023436 -0.128023  -0.126254       -0.175069  \n",
       "activeDuration -0.026755   -0.046345 -0.150075  -0.178697       -0.179784  \n",
       "urlLen          0.016628   -0.009703  0.374359   0.497277        0.344562  \n",
       "is@             1.000000   -0.004628  0.001148  -0.001525       -0.002833  \n",
       "isredirect     -0.004628    1.000000 -0.006451  -0.016139       -0.026109  \n",
       "haveDash        0.001148   -0.006451  1.000000   0.364481        0.250808  \n",
       "domainLen      -0.001525   -0.016139  0.364481   1.000000        0.863147  \n",
       "nosOfSubdomain -0.002833   -0.026109  0.250808   0.863147        1.000000  "
      ]
     },
     "execution_count": 9,
     "metadata": {},
     "output_type": "execute_result"
    }
   ],
   "source": [
    "X_train.corr()"
   ]
  },
  {
   "cell_type": "code",
   "execution_count": 10,
   "id": "urban-wyoming",
   "metadata": {},
   "outputs": [],
   "source": [
    "def correlation(dataset, threshold):\n",
    "    col_corr = set()  # Set of all the names of correlated columns\n",
    "    corr_matrix = dataset.corr()\n",
    "    for i in range(len(corr_matrix.columns)):\n",
    "        for j in range(i):\n",
    "            if abs(corr_matrix.iloc[i, j]) > threshold: # we are interested in absolute coeff value\n",
    "                colname = corr_matrix.columns[i]  # getting the name of column\n",
    "                col_corr.add(colname)\n",
    "    return col_corr"
   ]
  },
  {
   "cell_type": "code",
   "execution_count": 11,
   "id": "fundamental-laundry",
   "metadata": {},
   "outputs": [
    {
     "data": {
      "text/plain": [
       "2"
      ]
     },
     "execution_count": 11,
     "metadata": {},
     "output_type": "execute_result"
    }
   ],
   "source": [
    "corr_features = correlation(X_train, 0.6)\n",
    "len(set(corr_features))"
   ]
  },
  {
   "cell_type": "markdown",
   "id": "arctic-partition",
   "metadata": {},
   "source": [
    "# Finding unwanted Features in dataset"
   ]
  },
  {
   "cell_type": "code",
   "execution_count": 12,
   "id": "entire-raleigh",
   "metadata": {},
   "outputs": [
    {
     "data": {
      "text/plain": [
       "{'activeDuration', 'nosOfSubdomain'}"
      ]
     },
     "execution_count": 12,
     "metadata": {},
     "output_type": "execute_result"
    }
   ],
   "source": [
    "corr_features"
   ]
  },
  {
   "cell_type": "markdown",
   "id": "unavailable-uruguay",
   "metadata": {},
   "source": [
    "# Droping the unwanted Features in X_train & X_test"
   ]
  },
  {
   "cell_type": "code",
   "execution_count": 13,
   "id": "flying-verse",
   "metadata": {},
   "outputs": [],
   "source": [
    "X_train = X_train.drop(corr_features,axis=1)\n",
    "X_test = X_test.drop(corr_features,axis=1)"
   ]
  },
  {
   "cell_type": "code",
   "execution_count": 14,
   "id": "silent-latex",
   "metadata": {},
   "outputs": [
    {
     "data": {
      "text/plain": [
       "Index(['ranking', 'isIp', 'valid', 'urlLen', 'is@', 'isredirect', 'haveDash',\n",
       "       'domainLen'],\n",
       "      dtype='object')"
      ]
     },
     "execution_count": 14,
     "metadata": {},
     "output_type": "execute_result"
    }
   ],
   "source": [
    "X_train.columns"
   ]
  },
  {
   "cell_type": "markdown",
   "id": "hybrid-responsibility",
   "metadata": {},
   "source": [
    "# Data visualization for each single feature"
   ]
  },
  {
   "cell_type": "code",
   "execution_count": 15,
   "id": "former-grocery",
   "metadata": {},
   "outputs": [
    {
     "data": {
      "image/png": "[encoded data removed]",
      "text/plain": [
       "<Figure size 864x864 with 9 Axes>"
      ]
     },
     "metadata": {
      "needs_background": "light"
     },
     "output_type": "display_data"
    }
   ],
   "source": [
    "X_train.hist(bins=30, figsize=(12,12), density=True)\n",
    "plt.show()"
   ]
  },
  {
   "cell_type": "markdown",
   "id": "dietary-graph",
   "metadata": {},
   "source": [
    "# We use RandomForestClassifier for our model."
   ]
  },
  {
   "cell_type": "code",
   "execution_count": 16,
   "id": "animal-constitutional",
   "metadata": {},
   "outputs": [
    {
     "name": "stderr",
     "output_type": "stream",
     "text": [
      "<ipython-input-16-13583669b217>:2: DataConversionWarning: A column-vector y was passed when a 1d array was expected. Please change the shape of y to (n_samples,), for example using ravel().\n",
      "  RFC.fit(X_train,y_train)\n"
     ]
    },
    {
     "data": {
      "text/plain": [
       "RandomForestClassifier()"
      ]
     },
     "execution_count": 16,
     "metadata": {},
     "output_type": "execute_result"
    }
   ],
   "source": [
    "RFC = RandomForestClassifier()\n",
    "RFC.fit(X_train,y_train)"
   ]
  },
  {
   "cell_type": "code",
   "execution_count": 17,
   "id": "worse-hostel",
   "metadata": {},
   "outputs": [],
   "source": [
    "y_pred = RFC.predict(X_test)"
   ]
  },
  {
   "cell_type": "markdown",
   "id": "numeric-bidding",
   "metadata": {},
   "source": [
    "# Accuracy of our model"
   ]
  },
  {
   "cell_type": "code",
   "execution_count": 18,
   "id": "numerical-minutes",
   "metadata": {},
   "outputs": [
    {
     "name": "stdout",
     "output_type": "stream",
     "text": [
      "Accuracy for RandomForest: 0.9077487697055634\n"
     ]
    }
   ],
   "source": [
    "print(\"Accuracy for RandomForest:\",metrics.accuracy_score(y_test, y_pred))"
   ]
  },
  {
   "cell_type": "code",
   "execution_count": 19,
   "id": "varying-failure",
   "metadata": {},
   "outputs": [],
   "source": [
    "import pickle\n",
    "filename = 'ModelCS'\n",
    "outfile = open(filename,'wb')\n",
    "pickle.dump(RFC,outfile)\n",
    "outfile.close()"
   ]
  },
  {
   "cell_type": "code",
   "execution_count": null,
   "id": "japanese-amount",
   "metadata": {},
   "outputs": [],
   "source": []
  }
 ],
 "metadata": {
  "kernelspec": {
   "display_name": "Python 3",
   "language": "python",
   "name": "python3"
  },
  "language_info": {
   "codemirror_mode": {
    "name": "ipython",
    "version": 3
   },
   "file_extension": ".py",
   "mimetype": "text/x-python",
   "name": "python",
   "nbconvert_exporter": "python",
   "pygments_lexer": "ipython3",
   "version": "3.9.0"
  }
 },
 "nbformat": 4,
 "nbformat_minor": 5
}
